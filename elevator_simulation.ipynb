{
 "cells": [
  {
   "cell_type": "code",
   "execution_count": 1,
   "metadata": {},
   "outputs": [],
   "source": [
    "import simpy\n",
    "import random\n",
    "import statistics"
   ]
  },
  {
   "cell_type": "code",
   "execution_count": 9,
   "metadata": {},
   "outputs": [],
   "source": [
    "\n",
    "class Elevator(object):\n",
    "    def __init__(self, env, num_floors, floor_capacity, move_time, door_time):\n",
    "        self.env = env\n",
    "        self.floor_capacity = floor_capacity\n",
    "        self.current_floor = 0\n",
    "        self.direction = 1  # 1 for going up, -1 for going down\n",
    "        self.move_time = move_time\n",
    "        self.door_time = door_time\n",
    "        self.waiting_times = []\n",
    "\n",
    "    def move_to_floor(self, floor):\n",
    "        floor_difference = abs(floor - self.current_floor)\n",
    "        move_time = floor_difference * self.move_time\n",
    "        yield self.env.timeout(move_time)\n",
    "        self.current_floor = floor\n",
    "        print(f\"Elevator arrived at floor {floor}\")\n",
    "\n",
    "    def process_request(self, floor):\n",
    "        if self.direction == 1 and floor >= self.current_floor:\n",
    "            yield from self.move_to_floor(floor)\n",
    "        elif self.direction == -1 and floor <= self.current_floor:\n",
    "            yield from self.move_to_floor(floor)\n",
    "        else:\n",
    "            print(\"Invalid request\")\n",
    "\n",
    "    def run(self):\n",
    "        while True:\n",
    "            yield self.env.timeout(self.move_time)\n",
    "            if len(self.floor_capacity[self.current_floor]) > 0:\n",
    "                request = self.floor_capacity[self.current_floor].pop(0)\n",
    "                print(f\"Elevator picked up request from floor {self.current_floor}\")\n",
    "                yield from self.process_request(request)"
   ]
  },
  {
   "cell_type": "code",
   "execution_count": 8,
   "metadata": {},
   "outputs": [],
   "source": [
    "def passenger_arrival(env, floor_capacity, inter_arrival_time):\n",
    "    while True:\n",
    "        floor_capacity[0].append(env.now)\n",
    "        print(f\"Passenger arrived at floor 0\")\n",
    "        yield env.timeout(random.expovariate(1 / inter_arrival_time))"
   ]
  },
  {
   "cell_type": "code",
   "execution_count": 7,
   "metadata": {},
   "outputs": [],
   "source": [
    "# Simulation setup\n",
    "num_floors = 21\n",
    "move_time = 2  # Assume 2 time units per floor\n",
    "door_time = 10  # Assume 1 time unit to open/close the doors\n",
    "inter_arrival_time = 5  # Mean inter-arrival time for passengers (Poisson process)"
   ]
  },
  {
   "cell_type": "code",
   "execution_count": 10,
   "metadata": {},
   "outputs": [
    {
     "name": "stdout",
     "output_type": "stream",
     "text": [
      "Passenger arrived at floor 0\n",
      "Passenger arrived at floor 0\n",
      "Elevator picked up request from floor 0\n",
      "Elevator arrived at floor 0\n",
      "Elevator picked up request from floor 0\n",
      "Passenger arrived at floor 0\n",
      "Passenger arrived at floor 0\n",
      "Elevator arrived at floor 1.4204484264276935\n"
     ]
    },
    {
     "ename": "TypeError",
     "evalue": "list indices must be integers or slices, not float",
     "output_type": "error",
     "traceback": [
      "\u001b[0;31m---------------------------------------------------------------------------\u001b[0m",
      "\u001b[0;31mTypeError\u001b[0m                                 Traceback (most recent call last)",
      "Cell \u001b[0;32mIn[9], line 29\u001b[0m, in \u001b[0;36mElevator.run\u001b[0;34m(self)\u001b[0m\n\u001b[1;32m     28\u001b[0m \u001b[39myield\u001b[39;00m \u001b[39mself\u001b[39m\u001b[39m.\u001b[39menv\u001b[39m.\u001b[39mtimeout(\u001b[39mself\u001b[39m\u001b[39m.\u001b[39mmove_time)\n\u001b[0;32m---> 29\u001b[0m \u001b[39mif\u001b[39;00m \u001b[39mlen\u001b[39m(\u001b[39mself\u001b[39;49m\u001b[39m.\u001b[39;49mfloor_capacity[\u001b[39mself\u001b[39;49m\u001b[39m.\u001b[39;49mcurrent_floor]) \u001b[39m>\u001b[39m \u001b[39m0\u001b[39m:\n\u001b[1;32m     30\u001b[0m     request \u001b[39m=\u001b[39m \u001b[39mself\u001b[39m\u001b[39m.\u001b[39mfloor_capacity[\u001b[39mself\u001b[39m\u001b[39m.\u001b[39mcurrent_floor]\u001b[39m.\u001b[39mpop(\u001b[39m0\u001b[39m)\n",
      "\u001b[0;31mTypeError\u001b[0m: list indices must be integers or slices, not float",
      "\nThe above exception was the direct cause of the following exception:\n",
      "\u001b[0;31mTypeError\u001b[0m                                 Traceback (most recent call last)",
      "Cell \u001b[0;32mIn[10], line 7\u001b[0m\n\u001b[1;32m      5\u001b[0m env\u001b[39m.\u001b[39mprocess(elevator\u001b[39m.\u001b[39mrun())\n\u001b[1;32m      6\u001b[0m env\u001b[39m.\u001b[39mprocess(passenger_arrival(env, floor_capacity, inter_arrival_time))\n\u001b[0;32m----> 7\u001b[0m env\u001b[39m.\u001b[39;49mrun(until\u001b[39m=\u001b[39;49m\u001b[39m30\u001b[39;49m)  \u001b[39m# Run the simulation for 30 time units\u001b[39;00m\n\u001b[1;32m      9\u001b[0m \u001b[39m# Calculate average waiting time\u001b[39;00m\n\u001b[1;32m     10\u001b[0m waiting_times \u001b[39m=\u001b[39m [elevator\u001b[39m.\u001b[39mcurrent_floor \u001b[39m-\u001b[39m request \u001b[39mfor\u001b[39;00m floor \u001b[39min\u001b[39;00m floor_capacity \u001b[39mfor\u001b[39;00m request \u001b[39min\u001b[39;00m floor]\n",
      "File \u001b[0;32m~/.local/lib/python3.10/site-packages/simpy/core.py:254\u001b[0m, in \u001b[0;36mEnvironment.run\u001b[0;34m(self, until)\u001b[0m\n\u001b[1;32m    252\u001b[0m \u001b[39mtry\u001b[39;00m:\n\u001b[1;32m    253\u001b[0m     \u001b[39mwhile\u001b[39;00m \u001b[39mTrue\u001b[39;00m:\n\u001b[0;32m--> 254\u001b[0m         \u001b[39mself\u001b[39;49m\u001b[39m.\u001b[39;49mstep()\n\u001b[1;32m    255\u001b[0m \u001b[39mexcept\u001b[39;00m StopSimulation \u001b[39mas\u001b[39;00m exc:\n\u001b[1;32m    256\u001b[0m     \u001b[39mreturn\u001b[39;00m exc\u001b[39m.\u001b[39margs[\u001b[39m0\u001b[39m]  \u001b[39m# == until.value\u001b[39;00m\n",
      "File \u001b[0;32m~/.local/lib/python3.10/site-packages/simpy/core.py:206\u001b[0m, in \u001b[0;36mEnvironment.step\u001b[0;34m(self)\u001b[0m\n\u001b[1;32m    204\u001b[0m exc \u001b[39m=\u001b[39m \u001b[39mtype\u001b[39m(event\u001b[39m.\u001b[39m_value)(\u001b[39m*\u001b[39mevent\u001b[39m.\u001b[39m_value\u001b[39m.\u001b[39margs)\n\u001b[1;32m    205\u001b[0m exc\u001b[39m.\u001b[39m__cause__ \u001b[39m=\u001b[39m event\u001b[39m.\u001b[39m_value\n\u001b[0;32m--> 206\u001b[0m \u001b[39mraise\u001b[39;00m exc\n",
      "\u001b[0;31mTypeError\u001b[0m: list indices must be integers or slices, not float"
     ]
    }
   ],
   "source": [
    "env = simpy.Environment()\n",
    "floor_capacity = [[] for _ in range(num_floors)]\n",
    "elevator = Elevator(env, num_floors, floor_capacity, move_time, door_time)\n",
    "\n",
    "env.process(elevator.run())\n",
    "env.process(passenger_arrival(env, floor_capacity, inter_arrival_time))\n",
    "env.run(until=30)  # Run the simulation for 30 time units\n",
    "\n",
    "# Calculate average waiting time\n",
    "waiting_times = [elevator.current_floor - request for floor in floor_capacity for request in floor]\n",
    "average_waiting_time = statistics.mean(waiting_times)\n",
    "\n",
    "print(f\"Average waiting time: {average_waiting_time} time units\")"
   ]
  },
  {
   "cell_type": "code",
   "execution_count": 22,
   "metadata": {},
   "outputs": [
    {
     "name": "stdout",
     "output_type": "stream",
     "text": [
      "Average waiting time: -479.7038960663716 time units\n"
     ]
    }
   ],
   "source": [
    "import simpy\n",
    "import random\n",
    "import statistics\n",
    "\n",
    "class Elevator(object):\n",
    "    def __init__(self, env, num_floors, floor_capacity, move_time, door_time):\n",
    "        self.env = env\n",
    "        self.floor_capacity = floor_capacity\n",
    "        self.current_floor = 0\n",
    "        self.direction = 1  # 1 for going up, -1 for going down\n",
    "        self.move_time = move_time\n",
    "        self.door_time = door_time\n",
    "        self.waiting_times = []\n",
    "\n",
    "    def move_to_floor(self, floor):\n",
    "        floor_difference = abs(floor - self.current_floor)\n",
    "        move_time = floor_difference * self.move_time\n",
    "        yield self.env.timeout(move_time)\n",
    "        self.current_floor = floor\n",
    "        #print(f\"Elevator arrived at floor {floor}\")\n",
    "\n",
    "    def process_request(self, floor):\n",
    "        if self.direction == 1 and floor >= self.current_floor:\n",
    "            yield from self.move_to_floor(floor)\n",
    "        elif self.direction == -1 and floor <= self.current_floor:\n",
    "            yield from self.move_to_floor(floor)\n",
    "        else:\n",
    "            print(\"Invalid request\")\n",
    "\n",
    "    def run(self):\n",
    "        while True:\n",
    "            yield self.env.timeout(self.move_time)\n",
    "            if len(self.floor_capacity[self.current_floor]) > 0:\n",
    "                request = self.floor_capacity[self.current_floor].pop(0)\n",
    "                print(f\"Elevator picked up request from floor {self.current_floor}\")\n",
    "                yield from self.process_request(request)\n",
    "\n",
    "def passenger_arrival(env, num_floors, floor_capacity, inter_arrival_time):\n",
    "    while True:\n",
    "        floor = random.randint(1, num_floors-1)\n",
    "        floor_capacity[floor].append(env.now)\n",
    "        #print(f\"Passenger arrived at floor {floor}\")\n",
    "        yield env.timeout(random.expovariate(1 / inter_arrival_time))\n",
    "\n",
    "# Simulation setup\n",
    "num_floors = 21\n",
    "move_time = 2  # Assume 2 time units per floor\n",
    "door_time = 10  # Assume 1 time unit to open/close the doors\n",
    "inter_arrival_time = 5  # Mean inter-arrival time for passengers (Poisson process)\n",
    "\n",
    "env = simpy.Environment()\n",
    "floor_capacity = [[] for _ in range(num_floors)]\n",
    "elevator = Elevator(env, num_floors, floor_capacity, move_time, door_time)\n",
    "\n",
    "env.process(elevator.run())\n",
    "env.process(passenger_arrival(env, num_floors, floor_capacity, inter_arrival_time))\n",
    "env.run(until=1000)  # Run the simulation for 30 time units\n",
    "\n",
    "# Calculate average waiting time\n",
    "waiting_times = []\n",
    "for floor in floor_capacity:\n",
    "    for request_time in floor:\n",
    "        waiting_time = env.now - request_time\n",
    "        waiting_times.append(waiting_time)\n",
    "\n",
    "average_waiting_time = statistics.mean(waiting_times)\n",
    "\n",
    "print(f\"Average waiting time: {average_waiting_time} time units\")"
   ]
  }
 ],
 "metadata": {
  "kernelspec": {
   "display_name": "Python 3",
   "language": "python",
   "name": "python3"
  },
  "language_info": {
   "codemirror_mode": {
    "name": "ipython",
    "version": 3
   },
   "file_extension": ".py",
   "mimetype": "text/x-python",
   "name": "python",
   "nbconvert_exporter": "python",
   "pygments_lexer": "ipython3",
   "version": "3.10.6"
  },
  "orig_nbformat": 4
 },
 "nbformat": 4,
 "nbformat_minor": 2
}
